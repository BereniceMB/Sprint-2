{
 "cells": [
  {
   "cell_type": "markdown",
   "id": "4ccac5a1",
   "metadata": {},
   "source": [
    "# Nivel 1\n",
    "## Exercici 1\n",
    "Crea un np.array d'una dimensió, que inclogui l'almenys 8 nombres sencers, data type int64. Mostra la dimensió i la forma de la matriu. ."
   ]
  },
  {
   "cell_type": "code",
   "execution_count": 11,
   "id": "a2d37989",
   "metadata": {},
   "outputs": [
    {
     "name": "stdout",
     "output_type": "stream",
     "text": [
      "[ 109 2098    3   14 9875 1234   27    6 1977]\n",
      "La dimensión del array es:  1\n",
      "(9,)\n"
     ]
    }
   ],
   "source": [
    "import numpy as np\n",
    "arr = np.array([109, 2098, 3, 14, 9875, 1234, 27, 6, 1977])\n",
    "print(arr)\n",
    "print('La dimensión del array es: ',arr.ndim)\n",
    "print(arr.shape)"
   ]
  },
  {
   "cell_type": "markdown",
   "id": "aa29c314",
   "metadata": {},
   "source": [
    "## Exercici 2\n",
    "De la matriu de l'exercici 1, calcula el valor mitjà dels valors introduïts."
   ]
  },
  {
   "cell_type": "code",
   "execution_count": 10,
   "id": "f8fe4c52",
   "metadata": {},
   "outputs": [
    {
     "name": "stdout",
     "output_type": "stream",
     "text": [
      "La media de arr es:  1704.7777777777778\n"
     ]
    }
   ],
   "source": [
    "import numpy as np\n",
    "arr = np.array([109, 2098, 3, 14, 9875, 1234, 27, 6, 1977])\n",
    "print(\"La media de arr es: \", np.mean(arr))"
   ]
  },
  {
   "cell_type": "markdown",
   "id": "f3be5523",
   "metadata": {},
   "source": [
    "## Exercici 3\n",
    "Crea una matriu bidimensional amb una forma de 5 x 5. Extreu el valor màxim de la matriu, i els valors màxims de cadascun dels seus eixos."
   ]
  },
  {
   "cell_type": "code",
   "execution_count": 28,
   "id": "11627d84",
   "metadata": {},
   "outputs": [
    {
     "name": "stdout",
     "output_type": "stream",
     "text": [
      "[[ 109 2098    3   14 9875]\n",
      " [1977   -4 1234   27    6]\n",
      " [   2    4    5    7    8]\n",
      " [   4    0    0   -3    1]\n",
      " [   4    6    7   12 1345]]\n",
      "El valor máximo de la matriz es:  9875\n",
      "El valor máximo de cada columna es:  [1977 2098 1234   27 9875]\n",
      "El valor máximo de cada fila es:  [9875 1977    8    4 1345]\n"
     ]
    }
   ],
   "source": [
    "import numpy as np\n",
    "arr = np.array([[109, 2098, 3, 14, 9875],[1977, -4, 1234, 27, 6], [2,4,5,7,8], [4,0,0,-3,1], [4,6,7,12,1345]])\n",
    "print(arr)\n",
    "print('El valor máximo de la matriz es: ', np.amax(arr))\n",
    "print('El valor máximo de cada columna es: ',np.max(arr, axis=0))\n",
    "print('El valor máximo de cada fila es: ',np.max(arr, axis=1))\n"
   ]
  },
  {
   "cell_type": "markdown",
   "id": "fc0c36a4",
   "metadata": {},
   "source": [
    "---"
   ]
  },
  {
   "cell_type": "code",
   "execution_count": null,
   "id": "1b51993e",
   "metadata": {},
   "outputs": [],
   "source": []
  },
  {
   "cell_type": "markdown",
   "id": "a5d20ecc",
   "metadata": {},
   "source": [
    "# Nivel 2"
   ]
  },
  {
   "cell_type": "markdown",
   "id": "2f75877f",
   "metadata": {},
   "source": [
    "## Exercici 4\n",
    "Mostreu-me amb exemples de diferents matrius, la regla fonamental de Broadcasting que diu : \"les matrius es poden transmetre / broadcast si les seves dimensions coincideixen o si una de les matrius té una mida d'1\"."
   ]
  },
  {
   "cell_type": "markdown",
   "id": "bcaba0bd",
   "metadata": {},
   "source": [
    "## Exercici 5\n",
    "\n",
    "Utilitza la Indexació per extreure els valors d'una columna i una fila de la matriu. I suma els seus valors."
   ]
  },
  {
   "cell_type": "markdown",
   "id": "cf684042",
   "metadata": {},
   "source": [
    "## Exercici 6\n",
    "Mask la matriu anterior, realitzeu un càlcul booleà vectoritzat, agafant cada element i comprovant si es divideix uniformement per quatre.\n",
    "\n",
    "Això retorna una matriu de mask de la mateixa forma amb els resultats elementals del càlcul."
   ]
  },
  {
   "cell_type": "markdown",
   "id": "6d2152f3",
   "metadata": {},
   "source": [
    "## Exercici 7\n",
    "A continuació, utilitzeu aquesta màscara per indexar a la matriu de números original. Això fa que la matriu perdi la seva forma original, reduint-la a una dimensió, però encara obteniu les dades que esteu cercant."
   ]
  },
  {
   "cell_type": "markdown",
   "id": "1f32ee6f",
   "metadata": {},
   "source": [
    "---"
   ]
  },
  {
   "cell_type": "markdown",
   "id": "2c766f1f",
   "metadata": {},
   "source": [
    "# Nivel 3"
   ]
  },
  {
   "cell_type": "markdown",
   "id": "56ec46ae",
   "metadata": {},
   "source": [
    "## Exercici 8\n",
    "Mostreu-me a veure que passa quan eliminem el canal G Verd o B Blau.\n",
    "\n",
    "Mostreu-me a veure què passa quan eliminem el canal G Verd o B Blau. Hauries d'utilitzar la indexació per seleccionar el canal que voleu anul·lar.\n",
    "\n",
    "Utilitzar el mètode, mpimg.imsave () de la llibreria importada, per guardar les imatges modificades i que haureu de pujar al vostre repositori a github."
   ]
  },
  {
   "cell_type": "code",
   "execution_count": null,
   "id": "b177be47",
   "metadata": {},
   "outputs": [],
   "source": []
  }
 ],
 "metadata": {
  "kernelspec": {
   "display_name": "Python 3 (ipykernel)",
   "language": "python",
   "name": "python3"
  },
  "language_info": {
   "codemirror_mode": {
    "name": "ipython",
    "version": 3
   },
   "file_extension": ".py",
   "mimetype": "text/x-python",
   "name": "python",
   "nbconvert_exporter": "python",
   "pygments_lexer": "ipython3",
   "version": "3.9.7"
  }
 },
 "nbformat": 4,
 "nbformat_minor": 5
}
