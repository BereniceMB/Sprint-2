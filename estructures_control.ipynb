{
 "cells": [
  {
   "cell_type": "markdown",
   "id": "e7a83e16",
   "metadata": {},
   "source": [
    "## Exercici 1\n",
    "L'exercici consisteix a crear un programa que et classifiqui una variable numèrica en funció de l’escala Suspès/Aprovat/Notable/Excel·lent."
   ]
  },
  {
   "cell_type": "code",
   "execution_count": 2,
   "id": "42e4ed25",
   "metadata": {},
   "outputs": [
    {
     "name": "stdout",
     "output_type": "stream",
     "text": [
      "Aprovat\n",
      "Suspès\n",
      "Excel·lent\n"
     ]
    }
   ],
   "source": [
    "def nota(num):\n",
    "    if num<5:\n",
    "        print('Suspès')\n",
    "    elif num >= 5 and num <8:\n",
    "        print('Aprovat')\n",
    "    elif num ==8:\n",
    "        print('Notable')\n",
    "    elif num>=9 and num<=10:\n",
    "        print('Excel·lent')"
   ]
  },
  {
   "cell_type": "markdown",
   "id": "a6d1dc7f",
   "metadata": {},
   "source": [
    "## Exercici 2\n",
    "Utilitzant el següent tutorial Programiz: Python Input, Output and Import crea un programa que et pregunti dos números. T’ha de mostrar un missatge dient si el primer és més gran, el segon és més gran o són iguals.\n"
   ]
  },
  {
   "cell_type": "code",
   "execution_count": 9,
   "id": "7126b7db",
   "metadata": {},
   "outputs": [
    {
     "name": "stdout",
     "output_type": "stream",
     "text": [
      "Ingresa dos números separados por un espacio: 30 30\n",
      "Los dos números son iguales.\n"
     ]
    }
   ],
   "source": [
    "x, y = input(\"Ingresa dos números separados por un espacio: \").split()\n",
    "if y<x:\n",
    "    print('El primer número es más grande que el segundo.')\n",
    "elif x<y:\n",
    "    print('El segundo número es más grande que el primero.')\n",
    "elif x==y:\n",
    "    print('Los dos números son iguales.')"
   ]
  },
  {
   "cell_type": "markdown",
   "id": "dc0d530d",
   "metadata": {},
   "source": [
    "## Exercici 3\n",
    "Crea un programa que et pregunti el teu nom, i et demani un número. Si el número és 0, hauria de mostrar un missatge d’error. En cas contrari, hauria de mostrar el nom repetit tants cops com indiqui el número. Per exemple, “Joan Joan Joan”."
   ]
  },
  {
   "cell_type": "code",
   "execution_count": 20,
   "id": "55139f43",
   "metadata": {},
   "outputs": [
    {
     "name": "stdout",
     "output_type": "stream",
     "text": [
      "Introduce tu nombre Bere\n",
      "Introduce un número 0\n",
      "Error\n"
     ]
    }
   ],
   "source": [
    "nom = input('Introduce tu nombre ')\n",
    "num = int(input('Introduce un número '))\n",
    "if num ==0:\n",
    "    print('Error')\n",
    "else :\n",
    "    print((nom+' ')*num)"
   ]
  },
  {
   "cell_type": "markdown",
   "id": "c3fd5605",
   "metadata": {},
   "source": [
    "## Exercici 4\n",
    "Crea un programa que donada una llista qualsevol, et digui si es simètrica o no. Si ho és, que et digui quants elements té."
   ]
  },
  {
   "cell_type": "code",
   "execution_count": 25,
   "id": "28672113",
   "metadata": {},
   "outputs": [
    {
     "name": "stdout",
     "output_type": "stream",
     "text": [
      "No es simétrica\n",
      "Sí es simétrica\n",
      "No es simétrica\n",
      "Sí es simétrica\n"
     ]
    }
   ],
   "source": [
    "#Función que determina si una lista dada es simétrica o no\n",
    "def listaSimetrica(lista):\n",
    "    if list(reversed(lista))== lista:\n",
    "        print('Sí es simétrica')\n",
    "    else:\n",
    "        print('No es simétrica')\n",
    "        \n",
    "#Función que determina si un string dado es simétrico o no\n",
    "def stringSimetrico(frase):\n",
    "    frase2=frase.replace(\" \",\"\")\n",
    "    frase2=frase2.lower()\n",
    "    if ''.join(reversed(frase2))== frase2:\n",
    "        print('Sí es simétrica')\n",
    "    else:\n",
    "        print('No es simétrica')\n",
    "\n",
    "#Esto es sólo son ejemplos para ver que sí sirven\n",
    "seq_list = [1, 2, 4, 3, 5]\n",
    "seq_list2 = [1,2,3,3,2,1]\n",
    "listaSimetrica(seq_list)\n",
    "listaSimetrica(seq_list2)\n",
    "\n",
    "stringSimetrico('Ésta no lo es')\n",
    "stringSimetrico('Stella won no wallets')"
   ]
  },
  {
   "cell_type": "markdown",
   "id": "78ec0194",
   "metadata": {},
   "source": [
    "## Exercici 5\n",
    "Crea un programa que donada una llista, et digui quants números coincideixen amb la seva posició. Per exemple [3,4,2,0,2,3,6] el 2 i el 6 coincideixen."
   ]
  },
  {
   "cell_type": "code",
   "execution_count": 38,
   "id": "4abdba5a",
   "metadata": {},
   "outputs": [
    {
     "name": "stdout",
     "output_type": "stream",
     "text": [
      "2\n"
     ]
    }
   ],
   "source": [
    "def num_coincidencias(lista):\n",
    "    count=0\n",
    "    i=0\n",
    "    while i<len(lista):\n",
    "        if lista[i]==i:\n",
    "            count+=1\n",
    "            i+=1\n",
    "        else:\n",
    "            i=i+1\n",
    "    return count\n",
    "l=list((3,4,2,0,2,3,6))\n",
    "print(num_coincidencias(l))"
   ]
  }
 ],
 "metadata": {
  "kernelspec": {
   "display_name": "Python 3 (ipykernel)",
   "language": "python",
   "name": "python3"
  },
  "language_info": {
   "codemirror_mode": {
    "name": "ipython",
    "version": 3
   },
   "file_extension": ".py",
   "mimetype": "text/x-python",
   "name": "python",
   "nbconvert_exporter": "python",
   "pygments_lexer": "ipython3",
   "version": "3.9.7"
  }
 },
 "nbformat": 4,
 "nbformat_minor": 5
}
